{
 "cells": [
  {
   "cell_type": "code",
   "execution_count": 1,
   "id": "0f9e7c15",
   "metadata": {
    "ExecuteTime": {
     "end_time": "2021-06-04T15:09:22.458795Z",
     "start_time": "2021-06-04T15:09:22.450618Z"
    }
   },
   "outputs": [],
   "source": [
    "#data setiap kota dan jarak ke kota terdekatnya\n",
    "path = {\n",
    "    \"bandung\": {\n",
    "        \"surakarta\": 5,\n",
    "        \"garut\": 10\n",
    "    },\n",
    "    \"garut\": {\n",
    "        \"bandung\": 10,\n",
    "        \"semarang\": 2,\n",
    "        \"banjarmasin\": 1\n",
    "    },\n",
    "    \"surakarta\": {\n",
    "        \"banjarmasin\": 3,\n",
    "        \"bogor\": 7,\n",
    "        \"bandung\": 5\n",
    "    },\n",
    "    \"banjarmasin\": {\n",
    "        \"surakarta\": 3,\n",
    "        \"garut\": 1\n",
    "    },\n",
    "    \"bogor\": {\n",
    "        \"jogja\": 1,\n",
    "        \"surakarta\": 7\n",
    "    },\n",
    "    \"semarang\": {\n",
    "        \"garut\": 2,\n",
    "        \"jogja\": 2\n",
    "    },\n",
    "    \"jogja\": {\n",
    "        \"semarang\": 2,\n",
    "        \"bogor\": 1\n",
    "    }\n",
    "}"
   ]
  },
  {
   "cell_type": "code",
   "execution_count": 2,
   "id": "bdf0d422",
   "metadata": {
    "ExecuteTime": {
     "end_time": "2021-06-04T15:09:23.440780Z",
     "start_time": "2021-06-04T15:09:23.401205Z"
    }
   },
   "outputs": [
    {
     "data": {
      "text/plain": [
       "(['bandung', 'surakarta', 'bogor', 'jogja'], 13)"
      ]
     },
     "execution_count": 2,
     "metadata": {},
     "output_type": "execute_result"
    }
   ],
   "source": [
    "#algoritma BruteForce\n",
    "def BruteForce(source, destination, path):\n",
    "    #inisialisasi untuk hasil\n",
    "    result = []\n",
    "\n",
    "    #fungsi untuk perhitungan TSP dengan brute force\n",
    "    def TSP(source, destination, visited=[], distance=0):\n",
    "        #mengcopy data kota yang telah dikunjungi dan menambah source kedalamnya\n",
    "        visited = [*visited, source]\n",
    "\n",
    "        #jika sudah sampai destination\n",
    "        if source == destination:\n",
    "            #data visited dan distance dimasukan ke dalam hasil\n",
    "            result.append((visited, distance))\n",
    "        \n",
    "        #jika belum sampai destination\n",
    "        else:\n",
    "            #ambil seluruh data kota yang terhubung dengan source\n",
    "            for neighbor, weight in path[source].items():\n",
    "                #jika kota tersebut belum pernah dilewati\n",
    "                if neighbor not in visited:\n",
    "                    #jalankan kembali fungsi TSP dengan sourcenya adalah kota tersebut dan ada penambahan jarak juga\n",
    "                    TSP(neighbor, destination, visited, distance + weight)\n",
    "\n",
    "    #jalankan fungsi TSP\n",
    "    TSP(source, destination)\n",
    "\n",
    "    #jika hasilnya ada\n",
    "    if len(result) > 0:\n",
    "        #urutkan distance dan banyak visited pada hasil\n",
    "        result.sort(key=lambda x: (x[1], len(x[0])))\n",
    "\n",
    "        #return hasil dengan index 0 (distance terkecil dan jumlah visited paling sedikit)\n",
    "        return result[0]\n",
    "    \n",
    "    #jika tidak ada hasil\n",
    "    else:\n",
    "        #return None\n",
    "        return None\n",
    "\n",
    "#panggil fungsi BruteForce beserta kota awal dan kota tujuannya\n",
    "BruteForce(\"bandung\", \"jogja\", path)\n",
    "\n",
    "#kompleksitas waktunya adalah O(n!)"
   ]
  },
  {
   "cell_type": "code",
   "execution_count": 3,
   "id": "c7f955b2",
   "metadata": {
    "ExecuteTime": {
     "end_time": "2021-06-04T15:09:24.236586Z",
     "start_time": "2021-06-04T15:09:24.217823Z"
    }
   },
   "outputs": [
    {
     "data": {
      "text/plain": [
       "(['bandung', 'surakarta', 'banjarmasin', 'garut', 'semarang', 'jogja'], 13)"
      ]
     },
     "execution_count": 3,
     "metadata": {},
     "output_type": "execute_result"
    }
   ],
   "source": [
    "#algoritma Greedy\n",
    "def Greedy(source, destination, path):\n",
    "    #inisialisasi untuk hasil\n",
    "    result = []\n",
    "\n",
    "    #fungsi untuk perhitungan TSP dengan brute force\n",
    "    def TSP(source, destination, visited=[], distance=0):\n",
    "        #mengcopy data kota yang telah dikunjungi dan menambah source kedalamnya\n",
    "        visited = [*visited, source]\n",
    "\n",
    "        #jika sudah sampai destination\n",
    "        if source == destination:\n",
    "            #data visited dan distance dimasukan ke dalam hasil\n",
    "            result.append((visited, distance))\n",
    "            \n",
    "            #return True\n",
    "            return True\n",
    "\n",
    "        #jika belum sampai\n",
    "        else:\n",
    "            #urutkan kota yang terhubung berdasarkan jaraknya\n",
    "            sorted_path = sorted(path[source].items(), key=lambda x: x[1])\n",
    "            \n",
    "            #ambil kota yang tehubung yang sudah diurutkan\n",
    "            for neighbor, weight in sorted_path:\n",
    "                #jika kota tersebut belum pernah dilewati\n",
    "                if neighbor not in visited:\n",
    "                    #jalankan kembali fungsi TSP dengan sourcenya adalah kota tersebut dan ada penambahan jarak juga\n",
    "                    isArrive = TSP(neighbor, destination, visited, weight + distance)\n",
    "                    \n",
    "                    #jika di kota ini ada jalan menuju kota tujuan\n",
    "                    if isArrive:\n",
    "                        #return True\n",
    "                        return True\n",
    "            \n",
    "            #jika di kota ini tidak ada jalan menuju kota tujuan maka return False\n",
    "            return False\n",
    "\n",
    "    #jalankan fungsi TSP\n",
    "    TSP(source, destination)\n",
    "\n",
    "    #jika hasilnya ada\n",
    "    if len(result) > 0:\n",
    "        #return hasil dengan index 0 (banyak data seharusnya hanya ada 1)\n",
    "        return result[0]\n",
    "    \n",
    "    #jika tidak ada hasil\n",
    "    else:\n",
    "        #return None\n",
    "        return None\n",
    "\n",
    "#panggil fungsi Greedy beserta kota awal dan kota tujuannya\n",
    "Greedy(\"bandung\", \"jogja\", path)\n",
    "\n",
    "#kompleksitas waktunya adalah O(n^2)"
   ]
  },
  {
   "cell_type": "code",
   "execution_count": null,
   "id": "93670978",
   "metadata": {},
   "outputs": [],
   "source": []
  }
 ],
 "metadata": {
  "kernelspec": {
   "display_name": "Python 3",
   "language": "python",
   "name": "python3"
  },
  "language_info": {
   "codemirror_mode": {
    "name": "ipython",
    "version": 3
   },
   "file_extension": ".py",
   "mimetype": "text/x-python",
   "name": "python",
   "nbconvert_exporter": "python",
   "pygments_lexer": "ipython3",
   "version": "3.8.10"
  },
  "toc": {
   "base_numbering": 1,
   "nav_menu": {},
   "number_sections": true,
   "sideBar": true,
   "skip_h1_title": false,
   "title_cell": "Table of Contents",
   "title_sidebar": "Contents",
   "toc_cell": false,
   "toc_position": {},
   "toc_section_display": true,
   "toc_window_display": false
  }
 },
 "nbformat": 4,
 "nbformat_minor": 5
}
